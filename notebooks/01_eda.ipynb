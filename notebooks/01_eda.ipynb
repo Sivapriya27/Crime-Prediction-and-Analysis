{
 "cells": [
  {
   "cell_type": "code",
   "execution_count": null,
   "id": "4116b31d",
   "metadata": {},
   "outputs": [
    {
     "ename": "",
     "evalue": "",
     "output_type": "error",
     "traceback": [
      "\u001b[1;31mRunning cells with 'Python 3.10.4' requires the ipykernel package.\n",
      "\u001b[1;31m<a href='command:jupyter.createPythonEnvAndSelectController'>Create a Python Environment</a> with the required packages.\n",
      "\u001b[1;31mOr install 'ipykernel' using the command: 'c:/Users/Sivapriya/AppData/Local/Programs/Python/Python310/python.exe -m pip install ipykernel -U --user --force-reinstall'"
     ]
    }
   ],
   "source": [
    "# Cell 1\n",
    "import pandas as pd, matplotlib.pyplot as plt, seaborn as sns, yaml\n",
    "cfg = yaml.safe_load(open(\"../config.yaml\"))\n",
    "df = pd.read_csv(f\"../{cfg['paths']['raw']}\")\n",
    "\n",
    "# Cell 2\n",
    "df.head()\n"
   ]
  },
  {
   "cell_type": "code",
   "execution_count": null,
   "id": "1fb8636b",
   "metadata": {},
   "outputs": [],
   "source": [
    "# Cell 3: sanity plots\n",
    "sns.countplot(y=\"TYPE\", data=df, order=df[\"TYPE\"].value_counts().index[:20])\n",
    "plt.title(\"Top 20 Crime Types\"); plt.tight_layout()\n"
   ]
  }
 ],
 "metadata": {
  "kernelspec": {
   "display_name": "Python 3",
   "language": "python",
   "name": "python3"
  },
  "language_info": {
   "name": "python",
   "version": "3.10.4"
  }
 },
 "nbformat": 4,
 "nbformat_minor": 5
}
