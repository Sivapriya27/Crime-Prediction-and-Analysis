{
 "cells": [
  {
   "cell_type": "code",
   "execution_count": null,
   "id": "b23462cc",
   "metadata": {
    "vscode": {
     "languageId": "plaintext"
    }
   },
   "outputs": [],
   "source": [
    "# Cell 1\n",
    "import joblib, pandas as pd, yaml\n",
    "cfg = yaml.safe_load(open(\"../config.yaml\"))\n",
    "model = joblib.load(f\"../{cfg['paths']['model_path']}\")\n",
    "tfm = joblib.load(f\"../{cfg['paths']['artifacts_dir']}/transformers.joblib\")\n",
    "test = pd.read_csv(f\"../{cfg['paths']['processed_test']}\")\n",
    "X, y = test.drop(columns=[cfg[\"data\"][\"target\"]]), test[cfg[\"data\"][\"target\"]]\n",
    "X_te = tfm.transform(X)\n",
    "pred = model.predict(X_te)\n",
    "(pd.DataFrame({\"y_true\": y, \"y_pred\": pred})\n",
    " .assign(correct=lambda d: d.y_true==d.y_pred)\n",
    " .head(20))\n"
   ]
  }
 ],
 "metadata": {
  "language_info": {
   "name": "python"
  }
 },
 "nbformat": 4,
 "nbformat_minor": 5
}
